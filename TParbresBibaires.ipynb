{
 "cells": [
  {
   "attachments": {
    "Figure_1.png": {
     "image/png": "[encoded data removed]"
    }
   },
   "cell_type": "markdown",
   "id": "4326a3be",
   "metadata": {},
   "source": [
    "## Évaluer une expression\n",
    "\n",
    "On souhaite évaluer l'expression : $2+\\dfrac{3}{4-7}$\n",
    "\n",
    "Pour cela nous allons utiliser l'arbre binaire ci-dessous\n",
    "\n",
    "![Figure_1.png](attachment:Figure_1.png)\n",
    "\n",
    "## À faire :\n",
    "\n",
    "**En utilisant la structure d'arbres binaires qui utilise la classe Noeud, réaliser l'arbre de cette expression en complétant la cellule 4 ci-dessous.**"
   ]
  },
  {
   "cell_type": "code",
   "execution_count": 1,
   "id": "73a335c0",
   "metadata": {},
   "outputs": [],
   "source": [
    "# Arbre avec une classe\n",
    "\n",
    "class Noeud:\n",
    "    # Le constructeur\n",
    "    def __init__(self, value, left=None, right=None):\n",
    "        self.value = value\n",
    "        self.left = left\n",
    "        self.right = right \n",
    "        \n",
    "    # Méthode qui permet d’afficher la valeur de la racine avec l'instruction print\n",
    "    def __str__(self):\n",
    "        return str(self.value)\n",
    "\n",
    "    def estFeuille(self):\n",
    "        if not self.left and not self.right:\n",
    "            return True\n",
    "        else:\n",
    "            return False\n",
    "\n",
    "# Construction de l'arbre :        \n"
   ]
  },
  {
   "cell_type": "code",
   "execution_count": 3,
   "id": "05bd43a8",
   "metadata": {},
   "outputs": [],
   "source": [
    "# pour visualiser l'arbre \n",
    "import networkx as nx\n",
    "import matplotlib.pyplot as plt\n",
    "\n",
    "def hauteur(arbre):\n",
    "    if arbre is None:\n",
    "        return -1\n",
    "    else:\n",
    "        return 1 + max(hauteur(arbre.left), hauteur(arbre.right))\n",
    "def repr_graph(arbre, size=(8,8), null_node=False):\n",
    "    \"\"\"\n",
    "    size : tuple de 2 entiers. Si size est int -> (size, size)\n",
    "    null_node : si True, trace les liaisons vers les sous-arbres vides\n",
    "    \"\"\"\n",
    "    def parkour(arbre, noeuds, branches, labels, positions, profondeur, pos_courante, pos_parent, null_node):\n",
    "        if arbre is not None:\n",
    "            noeuds[0].append(pos_courante)\n",
    "            positions[pos_courante] = (pos_courante, profondeur)\n",
    "            profondeur -= 1\n",
    "            labels[pos_courante] = str(arbre.value)\n",
    "            branches[0].append((pos_courante, pos_parent))\n",
    "            pos_gauche = pos_courante - 2**profondeur\n",
    "            parkour(arbre.left, noeuds, branches, labels, positions, profondeur, pos_gauche, pos_courante, null_node)\n",
    "            pos_droit = pos_courante + 2**profondeur\n",
    "            parkour(arbre.right, noeuds, branches, labels, positions, profondeur, pos_droit, pos_courante, null_node)\n",
    "        elif null_node:\n",
    "            noeuds[1].append(pos_courante)\n",
    "            positions[pos_courante] = (pos_courante, profondeur)\n",
    "            branches[1].append((pos_courante, pos_parent))\n",
    "    \n",
    "    \n",
    "    if arbre ==None:\n",
    "        return\n",
    "    \n",
    "    branches = [[]]\n",
    "    profondeur = hauteur(arbre) # il faut calculer la hauteur ou la faire passer en paramètre (racine hauteur = 0)\n",
    "    pos_courante = 2**profondeur\n",
    "    noeuds = [[pos_courante]]\n",
    "    positions = {pos_courante: (pos_courante, profondeur)} \n",
    "    labels = {pos_courante: str(arbre.value)}\n",
    "    \n",
    "    if null_node:\n",
    "        branches.append([])\n",
    "        noeuds.append([])\n",
    "        \n",
    "    profondeur -= 1\n",
    "    parkour(arbre.left, noeuds, branches, labels, positions, profondeur, pos_courante - 2**profondeur, pos_courante, null_node)\n",
    "    parkour(arbre.right, noeuds, branches, labels, positions, profondeur, pos_courante + 2**profondeur, pos_courante, null_node) \n",
    "\n",
    "    mon_arbre = nx.Graph()\n",
    "    \n",
    "    if type(size) == int:\n",
    "        size = (size, size)    \n",
    "    plt.figure(figsize=size)\n",
    "    \n",
    "    nx.draw_networkx_nodes(mon_arbre, positions, nodelist=noeuds[0], node_color=\"white\", node_size=550, edgecolors=\"blue\")\n",
    "    nx.draw_networkx_edges(mon_arbre, positions, edgelist=branches[0], edge_color=\"black\", width=2)\n",
    "    nx.draw_networkx_labels(mon_arbre, positions, labels)\n",
    "\n",
    "    if null_node:\n",
    "        nx.draw_networkx_nodes(mon_arbre, positions, nodelist=noeuds[1], node_color=\"white\", node_size=50, edgecolors=\"grey\")\n",
    "        nx.draw_networkx_edges(mon_arbre, positions, edgelist=branches[1], edge_color=\"grey\", width=1)\n",
    "\n",
    "    ax = plt.gca()\n",
    "    ax.margins(0.1)\n",
    "    plt.axis(\"off\")\n",
    "    plt.show()\n",
    "    plt.close()"
   ]
  },
  {
   "cell_type": "code",
   "execution_count": 6,
   "id": "ad76208f",
   "metadata": {},
   "outputs": [],
   "source": [
    "# à faire \n",
    "\n",
    "# création de l'arbre\n",
    "\n",
    "\n",
    "\n",
    "# pour visualiser\n",
    "#repr_graph(votre_arbre,(4,3),False)"
   ]
  },
  {
   "cell_type": "markdown",
   "id": "eddc4e2b",
   "metadata": {},
   "source": [
    "## Évaluer l'expression\n",
    "\n",
    "Voici l'algorithme qui permet d'évaluer une expression définie par un arbre binaire.\n",
    "\n",
    "    fonction evalue(arbre)\n",
    "        Si l'arbre est une feuille    \n",
    "            Renvoyer la valeur de la feuille\n",
    "        Sinon Si la valeur est l'opérateur '+'\n",
    "            Renvoyer evalue(arbre_gauche) + evalue(arbre_droit)\n",
    "        Sinon Si la valeur est l'opérateur '-'\n",
    "            Renvoyer evalue(arbre_gauche) - evalue(arbre_droit)\n",
    "        Sinon Si la valeur est l'opérateur '*'\n",
    "            Renvoyer evalue(arbre_gauche) * evalue(arbre_droit)\n",
    "        Sinon Si la valeur est l'opérateur '/'\n",
    "            Renvoyer evalue(arbre_gauche) / evalue(arbre_droit)\n",
    "        \n",
    "        \n",
    "## À faire :\n",
    "\n",
    "**Implémenter cet algorithme et évaluer l'expression donnée**"
   ]
  },
  {
   "cell_type": "code",
   "execution_count": null,
   "id": "bd0396d1",
   "metadata": {},
   "outputs": [],
   "source": [
    "def evalue(exp):\n",
    "    pass\n",
    "    "
   ]
  },
  {
   "cell_type": "markdown",
   "id": "062b5c5f",
   "metadata": {},
   "source": [
    "## À faire :\n",
    "\n",
    "**Reprendre les deux derniers \" à faire \" avec une représentation d'arbre en liste de listes**\n"
   ]
  },
  {
   "cell_type": "code",
   "execution_count": 5,
   "id": "d34b4f87",
   "metadata": {},
   "outputs": [],
   "source": [
    "def noeud(nom, fg = None, fd = None) :\n",
    "    return {\"racine\": nom, \"fg\" : fg, \"fd\": fd}\n",
    "\n",
    "def construit(arbre) :\n",
    "    if arbre == None :\n",
    "        return []\n",
    "    else:\n",
    "        return [arbre[\"racine\"],construit(arbre[\"fg\"]),construit(arbre[\"fd\"])]"
   ]
  },
  {
   "cell_type": "code",
   "execution_count": null,
   "id": "dc2900e1",
   "metadata": {},
   "outputs": [],
   "source": [
    "# création des noeuds\n",
    "\n",
    "\n",
    "\n",
    "# création de l'arbre"
   ]
  },
  {
   "cell_type": "code",
   "execution_count": null,
   "id": "5a2ca410",
   "metadata": {},
   "outputs": [],
   "source": [
    "def evalue2(exp):\n",
    "    pass"
   ]
  }
 ],
 "metadata": {
  "kernelspec": {
   "display_name": "Python 3 (ipykernel)",
   "language": "python",
   "name": "python3"
  },
  "language_info": {
   "codemirror_mode": {
    "name": "ipython",
    "version": 3
   },
   "file_extension": ".py",
   "mimetype": "text/x-python",
   "name": "python",
   "nbconvert_exporter": "python",
   "pygments_lexer": "ipython3",
   "version": "3.8.10"
  }
 },
 "nbformat": 4,
 "nbformat_minor": 5
}
