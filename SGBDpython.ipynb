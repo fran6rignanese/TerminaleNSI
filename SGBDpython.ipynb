{
 "cells": [
  {
   "cell_type": "markdown",
   "id": "e49a4ff9",
   "metadata": {},
   "source": [
    "# Langage Python et requêtes SQL\n",
    "\n",
    "Nous allons commencer par travailler sur les requêtes SQL effectuées depuis un programme Python.\n",
    "\n",
    "## La bibliothèque sqlite3\n",
    "\n",
    "Créez un répertoire **projet\\_bd**, puis créez le fichier Python ci-dessous :"
   ]
  },
  {
   "cell_type": "code",
   "execution_count": null,
   "id": "f04a87c7",
   "metadata": {},
   "outputs": [],
   "source": [
    "import sqlite3\n",
    "\n",
    "conn = sqlite3.connect('baseDonnees.db')\n",
    "cur = conn.cursor()\n",
    "\n",
    "cur.execute(\"CREATE TABLE LIVRES(id INT, titre TEXT, auteur TXT, ann_publi INT, note INT)\")\n",
    "\n",
    "conn.commit()\n",
    "\n",
    "cur.close()\n",
    "conn.close()"
   ]
  },
  {
   "cell_type": "markdown",
   "id": "59df834e",
   "metadata": {},
   "source": [
    "Analysons le programme ci-dessus.\n",
    "\n",
    "Ce programme va vous permettre de vous \"connecter\" à une base de données (si cette dernière n'existe pas, elle sera créée). \n",
    "\n",
    "Ensuite nous créons une table (une relation) nommée **LIVRES**, cette table contient 4 attributs : \n",
    "*id (de type entier)*, *titre (de type texte)*, *auteur (de type texte)*, *ann_publi (de type entier)* et *note (de type entier)*.\n",
    "\n",
    "Entrons un peu dans les détails en analysant le programme ligne par ligne :\n",
    "\n",
    "\n",
    "**import sqlite3**\n",
    "\n",
    "\n",
    "\n",
    "Nous commençons par importer la bibliothèque **sqlite3**.\n",
    "\n",
    " Cette bibliothèque va nous permettre d'effectuer des requêtes SQL sur une base de données.\n",
    "\n",
    "Comme dans le cours sur les bases de données, nous utiliserons le **SGBD SQLite**.\n",
    "\n",
    "\n",
    "**conn = sqlite3.connect('baseDonnees.db')\n",
    "cur = conn.cursor()**\n",
    "\n",
    "\n",
    "\n",
    "Nous créons un objet de type *\"connection\"* (conn) qui va nous permettre d'interagir avec la base de données **\"baseDonnees.db\"** (comme dit plus haut, si cette base de données n'existe pas, elle est créée).\n",
    "\n",
    " Vous devriez donc avoir un fichier **\"baseDonnees.db\"** dans le même répertoire que votre fichier Python.\n",
    "\n",
    "Nous créons ensuite un objet de type *\"cursor\"* à partir de l'objet de type *\"connection\"*.\n",
    "\n",
    " Cet objet de type *\"cursor\"* va nous permettre de manipuler la base de données et d'obtenir des résultats lorsque nous effectuerons des requêtes.\n",
    " \n",
    "**cur.execute(\"CREATE TABLE LIVRES(id INT, titre TEXT, auteur TXT, ann_publi INT, note INT)\")**\n",
    "\n",
    "\n",
    "La méthode *\"execute\"* de notre objet de type *\"cursor\"* nous permet d'effectuer une requête SQL. \n",
    "\n",
    "Cette requête SQL est en tout point identique à ce que nous avons vu dans le cours sur les bases de données.\n",
    "\n",
    "\n",
    "**conn.commit()**\n",
    "\n",
    "\n",
    "Pour véritablement exécuter les requêtes, il est nécessaire d'appliquer la méthode *\"commit\"* à l'objet de type *\"connection\"*.\n",
    "\n",
    "**cur.close()\n",
    "conn.close()**\n",
    "\n",
    "\n",
    "Avant de terminer le programme, il nécessaire de \"fermer\" l'objet de type \"cursor\" et l'objet de type *\"connection\"*."
   ]
  },
  {
   "cell_type": "markdown",
   "id": "7ddb94bc",
   "metadata": {},
   "source": [
    "Nous allons systématiquement retrouver cette structure dans nos futurs programmes :\n",
    "\n",
    "- création d'un objet de type *\"connection\"*\n",
    "- création d'un objet de type *\"cursor\"*\n",
    "- préparation d'une ou plusieurs requête(s) (méthode *\"execute\"* sur l'objet de type *\"cursor\"*)\n",
    "- exécution réelle des requêtes (méthode *\"commit\"* sur l'objet de type *\"connection\"*)\n",
    "-  \"fermeture\" de l'objet de type *\"cursor\"* puis de l'objet de type *\"connection\"*\n"
   ]
  },
  {
   "cell_type": "markdown",
   "id": "88a3acab",
   "metadata": {},
   "source": [
    "Si vous exécutez une deuxième fois le premier programme proposé, vous aurez droit à une erreur : \"*OperationalError: table LIVRES already exists*\". \n",
    "\n",
    "Afin d'éviter ce genre de problème, il est possible de modifier le programme afin que la requête de création de la table LIVRES ne se fasse pas si la table LIVRES existe déjà.\n",
    "\n",
    "Après avoir effacé le fichier \"**baseDonnees.db**\", modifiez votre code python comme indiqué ci-dessous, puis exécutez-le."
   ]
  },
  {
   "cell_type": "code",
   "execution_count": null,
   "id": "c175e6a0",
   "metadata": {},
   "outputs": [],
   "source": [
    "import sqlite3\n",
    "\n",
    "conn = sqlite3.connect('baseDonnees.db')\n",
    "cur = conn.cursor()\n",
    "\n",
    "cur.execute(\"CREATE TABLE IF NOT EXISTS LIVRES(id INT, titre TEXT, auteur TXT, ann_publi INT, note INT)\")\n",
    "\n",
    "conn.commit()\n",
    "\n",
    "cur.close()\n",
    "conn.close()"
   ]
  },
  {
   "cell_type": "markdown",
   "id": "74cf4bce",
   "metadata": {},
   "source": [
    "Comme vous pouvez le constater, si vous exécutez le programme plusieurs fois de suite, il n'y a plus d'erreur.\n",
    "\n",
    "Ouvrez le fichier \"**baseDonnees.db**\" à l'aide du logiciel \"**DB Browser for SQLite**\" et vérifiez que la table **LIVRES** a bien été créée."
   ]
  },
  {
   "cell_type": "markdown",
   "id": "fc85c883",
   "metadata": {},
   "source": [
    "## Enregistrement des données\n",
    "Maintenant que notre table **LIVRES** a été créée, nous allons pouvoir commencer à la \"remplir\" avec des données.\n",
    "\n",
    "### Enregistrement direct\n",
    "\n",
    "Modifiez votre code python comme indiqué ci-dessous, puis exécutez-le."
   ]
  },
  {
   "cell_type": "code",
   "execution_count": null,
   "id": "656f31a5",
   "metadata": {},
   "outputs": [],
   "source": [
    "import sqlite3\n",
    "\n",
    "conn = sqlite3.connect('baseDonnees.db')\n",
    "cur = conn.cursor()\n",
    "\n",
    "cur.execute(\"CREATE TABLE IF NOT EXISTS LIVRES(id INT, titre TEXT, auteur TXT, ann_publi INT, note INT)\")\n",
    "cur.execute(\"INSERT INTO LIVRES(id,titre,auteur,ann_publi,note) VALUES(1,'1984','Orwell',1949,10)\")\n",
    "\n",
    "conn.commit()"
   ]
  },
  {
   "cell_type": "markdown",
   "id": "3c3c6120",
   "metadata": {},
   "source": [
    "Rien de particulier à signaler, la requête **INSERT** est identique à ce qui a été vu dans le cours sur les bases de données.\n",
    "\n",
    "Ouvrez le fichier \"**baseDonnees.db**\" à l'aide du logiciel **\"DB Browser for SQLite\"** et vérifiez que les données ont bien été ajoutées à la table LIVRES.\n",
    "\n",
    "Nous avons inclus les données à insérer directement dans la requête.\n",
    "\n",
    "### Enregistrement indirect\n",
    "\n",
    " Il est possible de procéder autrement en séparant les données à insérer et la requête (cela s'avérera particulièrement pratique dans le futur)\n",
    " \n",
    "Après avoir effacé le fichier \"**baseDonnees.db**\", modifiez votre code python comme indiqué ci-dessous, puis exécutez-le."
   ]
  },
  {
   "cell_type": "code",
   "execution_count": null,
   "id": "84fbd793",
   "metadata": {},
   "outputs": [],
   "source": [
    "import sqlite3\n",
    "\n",
    "conn = sqlite3.connect('baseDonnees.db')\n",
    "cur = conn.cursor()\n",
    "\n",
    "data = (1,'1984','Orwell',1949,10)\n",
    "\n",
    "cur.execute(\"CREATE TABLE IF NOT EXISTS LIVRES(id INT, titre TEXT, auteur TXT, ann_publi INT, note INT)\")\n",
    "cur.execute(\"INSERT INTO LIVRES(id,titre,auteur,ann_publi,note) VALUES(?, ?, ?, ?, ?)\", data)\n",
    "conn.commit()\n",
    "\n",
    "cur.close()\n",
    "conn.close()"
   ]
  },
  {
   "cell_type": "markdown",
   "id": "e3bb28ac",
   "metadata": {},
   "source": [
    "Première chose à remarquer, nous avons créé un tuple (*data*) contenant toutes les informations.\n",
    "\n",
    " En effet, la méthode \"*execute*\" peut prendre un deuxième paramètre un tuple contenant les données à insérer.\n",
    " \n",
    "  Les points d'interrogation présents dans la requête indiquent l'emplacement des données à insérer. \n",
    "  \n",
    "  Le premier ? sera remplacé par le premier élément du tuple (dans notre cas 1), le deuxième ? sera remplacé par le deuxième élément du tuple (dans notre cas '1984') et ainsi de suite...\n",
    "  \n",
    "### Enregistrement d'une liste de tuples\n",
    "\n",
    " Si l'on désire insérer plusieurs données, il est possible de regrouper toutes les données à insérer dans un tableau et d'utiliser la méthode \"*executemany*\" à la place de la méthode \"*execute*\".\n",
    "  \n",
    "  Après avoir effacé le fichier \"**baseDonnees.db**\", modifiez votre code python comme indiqué ci-dessous, puis exécutez-le.\n"
   ]
  },
  {
   "cell_type": "code",
   "execution_count": null,
   "id": "981f5119",
   "metadata": {},
   "outputs": [],
   "source": [
    "import sqlite3\n",
    "\n",
    "conn = sqlite3.connect('baseDonnees.db')\n",
    "cur = conn.cursor()\n",
    "\n",
    "datas = [\n",
    "    (1,'1984','Orwell',1949,10),\n",
    "    (2,'Dune','Herbert',1965,8),\n",
    "    (3,'Fondation','Asimov',1951,9),\n",
    "    (4,'Le meilleur des mondes','Huxley',1931,7),\n",
    "    (5,'Fahrenheit 451','Bradbury',1953,7),\n",
    "    (6,'Ubik','K.Dick',1969,9),\n",
    "    (7,'Chroniques martiennes','Bradbury',1950,8),\n",
    "    (8,'La nuit des temps','Barjavel',1968,7),\n",
    "    (9,'Blade Runner','K.Dick',1968,8),\n",
    "    (10,'Les Robots','Asimov',1950,9),\n",
    "    (11,'La Planète des singes','Boulle',1963,8),\n",
    "    (12,'Ravage','Barjavel',1943,8),\n",
    "    (13,'Le Maître du Haut Château','K.Dick',1962,8),\n",
    "    (14,'Le monde des Ā','Van Vogt',1945,7),\n",
    "    (15,'La Fin de l’éternité','Asimov',1955,8),\n",
    "    (16,'De la Terre à la Lune','Verne',1865,10)\n",
    " ]\n",
    "\n",
    "cur.execute(\"CREATE TABLE IF NOT EXISTS LIVRES(id INT, titre TEXT, auteur TXT, ann_publi INT, note INT)\")\n",
    "cur.executemany(\"INSERT INTO LIVRES(id,titre,auteur,ann_publi,note) VALUES(?, ?, ?, ?, ?)\", datas)\n",
    "conn.commit()\n",
    "\n",
    "cur.close()\n",
    "conn.close()"
   ]
  },
  {
   "cell_type": "markdown",
   "id": "ae528cae",
   "metadata": {},
   "source": [
    "Ouvrez le fichier \"**baseDonnees.db**\" à l'aide du logiciel \"**DB Browser for SQLite**\" et vérifiez que les données ont bien été ajoutées à la table LIVRES.\n",
    "\n",
    "### Incrémentation d'un attribut\n",
    "\n",
    " Il n'est pas très pratique d'avoir à gérer l'id (clé primaire).\n",
    "\n",
    " En effet, si je veux ajouter un nouveau livre, il faudra que je connaisse l'id du précédent (incrémentation de l'id).\n",
    " \n",
    "  Heureusement, il est possible d'automatiser cette incrémentation.\n",
    "  \n",
    "  \n",
    "  Après avoir effacé le fichier \"**baseDonnees.db**\", modifiez votre code python comme indiqué ci-dessous, puis exécutez-le.\n"
   ]
  },
  {
   "cell_type": "code",
   "execution_count": null,
   "id": "75a1aa9f",
   "metadata": {},
   "outputs": [],
   "source": [
    "import sqlite3\n",
    "\n",
    "conn = sqlite3.connect('baseDonnees.db')\n",
    "cur = conn.cursor()\n",
    "\n",
    "datas = [\n",
    "    ('1984','Orwell',1949,10),\n",
    "    ('Dune','Herbert',1965,8),\n",
    "    ('Fondation','Asimov',1951,9),\n",
    "    ('Le meilleur des mondes','Huxley',1931,7),\n",
    "    ('Fahrenheit 451','Bradbury',1953,7),\n",
    "    ('Ubik','K.Dick',1969,9),\n",
    "    ('Chroniques martiennes','Bradbury',1950,8),\n",
    "    ('La nuit des temps','Barjavel',1968,7),\n",
    "    ('Blade Runner','K.Dick',1968,8),\n",
    "    ('Les Robots','Asimov',1950,9),\n",
    "    ('La Planète des singes','Boulle',1963,8),\n",
    "    ('Ravage','Barjavel',1943,8),\n",
    "    ('Le Maître du Haut Château','K.Dick',1962,8),\n",
    "    ('Le monde des Ā','Van Vogt',1945,7),\n",
    "    ('La Fin de l’éternité','Asimov',1955,8),\n",
    "    ('De la Terre à la Lune','Verne',1865,10)\n",
    " ]\n",
    "\n",
    "cur.execute(\"CREATE TABLE IF NOT EXISTS LIVRES(id INTEGER PRIMARY KEY AUTOINCREMENT UNIQUE, titre TEXT, auteur TXT, ann_publi INT, note INT)\")\n",
    "cur.executemany(\"INSERT INTO LIVRES(titre,auteur,ann_publi,note) VALUES(?, ?, ?, ?)\", datas)\n",
    "conn.commit()\n",
    "\n",
    "cur.close()\n",
    "conn.close()"
   ]
  },
  {
   "cell_type": "markdown",
   "id": "c2de1455",
   "metadata": {},
   "source": [
    "Ouvrez le fichier \"**baseDonnees.db**\" à l'aide du logiciel \"**DB Browser for SQLite**\" et vérifiez que les données ont bien été ajoutées à la table LIVRES.\n",
    "\n",
    "Vous pouvez constater que nous avons bien l'attribut \"id\", même si ce dernier n'a pas été renseigné dans les données (absence d'id dans le tableau datas).\n",
    "\n",
    " Désormais l'id sera incrémenté automatiquement grâce au \"**id INTEGER PRIMARY KEY AUTOINCREMENT UNIQUE**\" (attention il est nécessaire d'utiliser INTEGER à la place du INT habituel) présent dans la requête de création de la table LIVRES.\n",
    " \n",
    "  Attention, de bien penser à supprimer un ? dans la requête d'insertion (chaque tuple contient maintenant 4 éléments (nous en avions 5 quand l'id n'était pas géré automatiquement)).\n",
    "\n",
    "### Ajout d'une nouvelle donnée\n",
    "\n",
    "Il est tout à fait possible de rajouter une nouvelle donnée.\n",
    "\n",
    "Modifiez votre code python comme indiqué ci-dessous, puis exécutez-le."
   ]
  },
  {
   "cell_type": "code",
   "execution_count": null,
   "id": "faf69492",
   "metadata": {},
   "outputs": [],
   "source": [
    "import sqlite3\n",
    "\n",
    "conn = sqlite3.connect('baseDonnees.db')\n",
    "cur = conn.cursor()\n",
    "nvx_data = ('Hypérion','Simmons',1989,8)\n",
    "\n",
    "cur.execute(\"INSERT INTO LIVRES(titre,auteur,ann_publi,note) VALUES(?, ?, ?, ?)\", nvx_data)\n",
    "conn.commit()\n",
    "\n",
    "cur.close()\n",
    "conn.close()"
   ]
  },
  {
   "cell_type": "markdown",
   "id": "8d957600",
   "metadata": {},
   "source": [
    "Ouvrez le fichier \"**baseDonnees.db**\" à l'aide du logiciel \"**DB Browser for SQLite**\" et vérifiez que les données ont bien été ajoutées à la table LIVRES.\n",
    "\n",
    "Vous pouvez remarquer que le nouvel enregistrement a bien l'id 17 et que nous n'avons pas eu à nous en occuper.\n",
    "\n",
    "### Modification d'une nouvelle donnée\n",
    "\n",
    "Il est possible de modifier des données déjà présentes dans la table.\n",
    "\n",
    "Modifiez votre code python comme indiqué ci-dessous, puis exécutez-le."
   ]
  },
  {
   "cell_type": "code",
   "execution_count": null,
   "id": "3565bf82",
   "metadata": {},
   "outputs": [],
   "source": [
    "import sqlite3\n",
    "\n",
    "conn = sqlite3.connect('baseDonnees.db')\n",
    "cur = conn.cursor()\n",
    "\n",
    "modif = (7, 'Hypérion')\n",
    "cur.execute('UPDATE LIVRES SET note = ? WHERE titre = ?', modif)\n",
    "conn.commit()\n",
    "\n",
    "cur.close()\n",
    "conn.close()"
   ]
  },
  {
   "cell_type": "markdown",
   "id": "452cc7bc",
   "metadata": {},
   "source": [
    "Ouvrez le fichier \"**baseDonnees.db**\" à l'aide du logiciel \"**DB Browser for SQLite**\" et vérifiez que les données ont bien été modifiées dans la table LIVRES.\n",
    "\n",
    "Comme vous pouvez le constater, il est possible d'utiliser la clause **WHERE** avec un ?\n",
    "\n",
    "\n",
    "### Suppression d'une donnée\n",
    "\n",
    "Il est aussi possible de supprimer une donnée.\n",
    "\n",
    "Modifiez votre code python comme indiqué ci-dessous, puis exécutez-le."
   ]
  },
  {
   "cell_type": "code",
   "execution_count": null,
   "id": "434e2d75",
   "metadata": {},
   "outputs": [],
   "source": [
    "import sqlite3\n",
    "\n",
    "conn = sqlite3.connect('baseDonnees.db')\n",
    "cur = conn.cursor()\n",
    "\n",
    "suppr = ('Hypérion',)\n",
    "cur.execute('DELETE FROM LIVRES WHERE titre = ?', suppr)\n",
    "conn.commit()\n",
    "\n",
    "cur.close()\n",
    "conn.close()"
   ]
  },
  {
   "cell_type": "markdown",
   "id": "0cd3d4a5",
   "metadata": {},
   "source": [
    "Ouvrez le fichier \"**baseDonnees.db**\" à l'aide du logiciel \"**DB Browser for SQLite**\"  et vérifiez que l'entrée \"Hypérion\" a été supprimée de la table LIVRES.\n",
    "\n",
    "Attention, le deuxième paramètre de la méthode \"*execute*\" doit être un tuple, si on écrit seulement *suppr = ('Hypérion')*, *suppr* est une chaîne de caractères et pas un tuple.\n",
    "\n",
    " Pour avoir un tuple avec un seul élément il est nécessaire d'ajouter une virgule (d'où le *suppr = ('Hypérion',)*)?\n",
    " \n",
    " \n",
    "## Requêtes de type \"SELECT\"\n",
    "\n",
    "Saisissez le programme ci-dessous, puis exécutez-le."
   ]
  },
  {
   "cell_type": "code",
   "execution_count": null,
   "id": "d602e2d8",
   "metadata": {},
   "outputs": [],
   "source": [
    "import sqlite3\n",
    "\n",
    "conn = sqlite3.connect('baseDonnees.db')\n",
    "cur = conn.cursor()\n",
    "\n",
    "cur.execute('SELECT * FROM LIVRES')\n",
    "conn.commit()\n",
    "\n",
    "liste = cur.fetchall()\n",
    "print(liste)\n",
    "cur.close()\n",
    "conn.close()"
   ]
  },
  {
   "cell_type": "markdown",
   "id": "d33ee997",
   "metadata": {},
   "source": [
    "Comme vous pouvez le constater, la variable liste est un tableau qui contient des tuples.\n",
    "\n",
    " Chaque tuple est un enregistrement de la table LIVRES.\n",
    " \n",
    "  La méthode \"*fetchall*\" d'un objet de type \"*cursor*\" renvoie un tableau contenant des tuples\n",
    "  \n",
    "**Il est possible d'avoir des requêtes plus sélectives**.\n",
    "  \n",
    "  Modifiez votre code python comme indiqué ci-dessous, puis exécutez-le."
   ]
  },
  {
   "cell_type": "code",
   "execution_count": null,
   "id": "ae685b0f",
   "metadata": {},
   "outputs": [],
   "source": [
    "import sqlite3\n",
    "\n",
    "conn = sqlite3.connect('baseDonnees.db')\n",
    "cur = conn.cursor()\n",
    "\n",
    "cur.execute('SELECT titre, ann_publi FROM LIVRES WHERE ann_publi < 1970')\n",
    "conn.commit()\n",
    "\n",
    "liste = cur.fetchall()\n",
    "print(liste)\n",
    "cur.close()\n",
    "conn.close()"
   ]
  },
  {
   "cell_type": "markdown",
   "id": "842e1114",
   "metadata": {},
   "source": [
    "Vous pouvez constater que l'on obtient bien un tableau contenant des tuples (nous avons bien des tuples même si seuls les titres ont été sélectionnés)\n",
    "\n",
    "**Il est possible d'utiliser les points d'interrogation dans une requête de type SELECT.**\n",
    "\n",
    "Modifiez votre code python comme indiqué ci-dessous, puis exécutez-le."
   ]
  },
  {
   "cell_type": "code",
   "execution_count": null,
   "id": "a2514cb1",
   "metadata": {},
   "outputs": [],
   "source": [
    "import sqlite3\n",
    "\n",
    "conn = sqlite3.connect('baseDonnees.db')\n",
    "cur = conn.cursor()\n",
    "\n",
    "recherche = (1960, 8)\n",
    "\n",
    "cur.execute('SELECT titre, ann_publi, note FROM LIVRES WHERE ann_publi < ? AND note > ?', recherche)\n",
    "conn.commit()\n",
    "\n",
    "liste = cur.fetchall()\n",
    "print(liste)\n",
    "\n",
    "cur.close()\n",
    "conn.close()"
   ]
  },
  {
   "cell_type": "markdown",
   "id": "d33ac307",
   "metadata": {},
   "source": [
    "# Un SGBD en Python\n",
    "\n",
    "Nous allons créer la base de données **Livres** à l'aide d'un script Python.\n",
    "\n",
    "Puis nous envisagerons la possibilité de lire des données, modifier des données.\n",
    "\n",
    "## Ajout de données\n",
    "\n",
    "Recopiez le code ci-dessous où l'on crée la base de données puis testez le choix 1.\n"
   ]
  },
  {
   "cell_type": "code",
   "execution_count": null,
   "id": "cdff7fff",
   "metadata": {},
   "outputs": [],
   "source": [
    "import sqlite3\n",
    "conn = sqlite3.connect('baseDonneesLivres.db')\n",
    "\n",
    "def menu():\n",
    "    print(' 0-Quitter \\n 1- Ajouter un livre \\n 2-Rechercher  un livre \\n 3-Modifier une donnée')\n",
    "\n",
    "\n",
    "def ajout():\n",
    "    conn = sqlite3.connect('baseDonneesLivres.db')\n",
    "    cur = conn.cursor()\n",
    "    titre = input(\"Titre : \")\n",
    "    auteur = input(\"Auteur: \")\n",
    "    ann_publi = int(input(\"Année de publication : \"))\n",
    "    note = int(input(\"Note : \"))\n",
    "    nvx_data = (titre, auteur, ann_publi, note)\n",
    "\n",
    "    cur.execute(\"CREATE TABLE IF NOT EXISTS LIVRES(id INTEGER PRIMARY KEY AUTOINCREMENT UNIQUE, titre TEXT, auteur TXT, ann_publi INT, note INT)\")\n",
    "    cur.execute('SELECT * FROM LIVRES WHERE titre= ? AND auteur=? AND ann_publi=? AND note=?', nvx_data)\n",
    "\n",
    "    liste = cur.fetchall()\n",
    "    if len(liste)==0:\n",
    "        cur.execute(\"INSERT INTO LIVRES(titre,auteur,ann_publi,note) VALUES(?, ?, ?, ?)\", nvx_data)\n",
    "        conn.commit()\n",
    "    cur.close()\n",
    "    conn.close()\n",
    "\n",
    "def menuLecture():\n",
    "    print(' 1- Recherche par auteur \\n 2- Recherche par titre\\n 3-Recherche par année de publication\\n 4-Recherche par note')\n",
    "    n=int(input(\"Entrez votre choix : \"))\n",
    "    return n\n",
    "\n",
    "def lecture():\n",
    "    n=menuLecture()\n",
    "    if n==1:\n",
    "        auteur=input(\"Entrez l'auteur : \")\n",
    "        print(lectureAuteur(auteur))\n",
    "    if n==2:\n",
    "        titre=input(\"Entrez le titre : \")\n",
    "        print(lectureTitre(titre))\n",
    "    if n==3:\n",
    "        ann_publi=int(input(\"Entrez une année : \"))\n",
    "        print(lectureAnnee(ann_publi))\n",
    "    if n==4:\n",
    "        note=int(input(\"Entrez une note : \"))\n",
    "        print(lectureNote(note))\n",
    "\n",
    "\n",
    "\n",
    "\n",
    "def lectureAuteur(auteur):\n",
    "    conn = sqlite3.connect('baseDonneesLivres.db')\n",
    "    cur = conn.cursor()\n",
    "    recherche = (auteur,)\n",
    "    cur.execute('SELECT * FROM LIVRES WHERE auteur= ?', recherche)\n",
    "    conn.commit()\n",
    "    liste = cur.fetchall()\n",
    "    cur.close()\n",
    "    conn.close()\n",
    "    if len(liste)==0:return \"Cet auteur n'existe pas\"\n",
    "    else :return liste\n",
    "\n",
    "\n",
    "\n",
    "menu()\n",
    "choix = int(input(\"Votre choix ? \"))\n",
    "\n",
    "while choix!=0:\n",
    "    if choix==1:  ajout()\n",
    "    if choix==2: lecture()\n",
    "    if choix==3:modif()\n",
    "    menu()\n",
    "    choix = int(input(\"Votre choix ? \"))"
   ]
  },
  {
   "cell_type": "markdown",
   "id": "75756939",
   "metadata": {},
   "source": [
    "## Lecture d'une donnée\n",
    "\n",
    "1. Testez la fonction *lectureAuteur(auteur)* afin de lire une donnée à partir d'un auteur.\n",
    "\n",
    "1. Créez les fonctions *lectureTitre(titre)*, *lectureAnnee(ann\\_publi)* et *lectureNote(note)* afin de pouvoir lire des données à partir d'un titre ou d'une année ou d'une note.\n",
    "\n",
    "\n",
    "## Modification d'une donnée"
   ]
  },
  {
   "cell_type": "markdown",
   "id": "3a3b662e",
   "metadata": {},
   "source": [
    "Ajouter à votre code les fonctions ci-dessous puis testez la modification du titre."
   ]
  },
  {
   "cell_type": "code",
   "execution_count": null,
   "id": "b44d00ef",
   "metadata": {},
   "outputs": [],
   "source": [
    "def menuModif(t):\n",
    "    print(\"Vous voulez modifier\\n 1- Le titre\\n 2- L'auteur\\n 3- L'année de publication \\n 4- La note\")\n",
    "    n=int(input(\"Entrez votre choix : \"))\n",
    "    return n\n",
    "\n",
    "def modif():\n",
    "    titre=input(\"Entrez le titre : \")\n",
    "    t=lectureTitre(titre)\n",
    "    print(t)\n",
    "    n=menuModif(t)\n",
    "    conn = sqlite3.connect('baseDonneesLivres.db')\n",
    "    cur = conn.cursor()\n",
    "    if n==1:\n",
    "        nouvTitre=input(\"Entrez le nouveau titre : \")\n",
    "        nouv=(nouvTitre,titre)\n",
    "        cur.execute('UPDATE LIVRES SET titre=? WHERE titre=?',nouv)\n",
    "        \n",
    "        \n",
    "        \n",
    "    conn.commit()\n",
    "    cur.close()\n",
    "    conn.close()"
   ]
  },
  {
   "cell_type": "markdown",
   "id": "5a394959",
   "metadata": {},
   "source": [
    "Ajoutez les lignes manquantes afin de pouvoir modifier l'auteur, l'année de publication ou la note."
   ]
  },
  {
   "cell_type": "markdown",
   "id": "6ec54850",
   "metadata": {},
   "source": [
    "# Version web\n",
    "\n",
    "Créez un répertoire nommé *VersionWeb*. Tout ce qui suit sera enregistré dans ce répertoire.\n",
    "\n",
    "Dans cette partie nous allons reprendre le TP **annuaire téléphonique** fait en 1ère.\n",
    "\n",
    "À la place du fichier texte nous utiliserons une base de données.\n",
    "\n",
    "On remplace l'annuaire téléphonique par la base de données *baseDonneesLivres.db*.\n",
    "\n",
    "## Rappel\n",
    "\n",
    "\n",
    "- Dans votre répertoire de travail, créez un répertoire nommé **flask**.\n",
    "- Créez un fichier Python **views.py** (ce fichier devra être sauvegardé dans le répertoire **flask** précédemment créé).\n",
    "\n",
    " Saisissez le code suivant dans le fichier **views.py**"
   ]
  },
  {
   "cell_type": "code",
   "execution_count": null,
   "id": "d1d4a755",
   "metadata": {},
   "outputs": [],
   "source": [
    "from flask import Flask,render_template,request\n",
    "import sqlite3\n",
    "app = Flask(__name__)\n",
    "\n",
    "@app.route('/')\n",
    "def index():\n",
    "    return render_template(\"index.html\")\n",
    "\n",
    "@app.route('/ajout')\n",
    "def ajout():\n",
    "    return render_template(\"ajout.html\")\n",
    "\n",
    "@app.route('/resultatAjout',methods = ['POST'])\n",
    "def resultatAjout():\n",
    "    result = request.form\n",
    "    t,a,a_p,n= result['titre'],result['auteur'],result['ann_publi'],result['note']\n",
    "    conn = sqlite3.connect('baseDonneesLivres.db')\n",
    "    cur = conn.cursor()\n",
    "    nvx_data = (t, a, a_p, n)\n",
    "    cur.execute(\n",
    "    \"CREATE TABLE IF NOT EXISTS LIVRES(id INTEGER PRIMARY KEY AUTOINCREMENT UNIQUE, titre TEXT, auteur TXT, ann_publi INT, note INT)\")\n",
    "    cur.execute(\"INSERT INTO LIVRES(titre,auteur,ann_publi,note) VALUES(?, ?, ?, ?)\", nvx_data)\n",
    "    conn.commit()\n",
    "    cur.close()\n",
    "    conn.close()\n",
    "    return render_template(\"resultatAjout.html\", titre=t,auteur=a,ann_publi=a_p,note=n)\n",
    "\n",
    "@app.route('/lecture')\n",
    "def lecture():\n",
    "    return render_template(\"lecture.html\")\n",
    "app.run(debug=True)"
   ]
  },
  {
   "cell_type": "markdown",
   "id": "f630798a",
   "metadata": {},
   "source": [
    "Dans votre répertoire **Flask**, créez un répertoire **templates**.\n",
    " \n",
    "  Dans ce répertoire **templates**, créez un fichier **index.html**. \n",
    "  \n",
    "  Vous pouvez utiliser l'éditeur **Visual Studio Code**\n",
    "  \n",
    "  Saisissez le code HTML ci-dessous dans ce fichier **index.html**"
   ]
  },
  {
   "cell_type": "raw",
   "id": "d496e538",
   "metadata": {},
   "source": [
    "<!doctype html>\n",
    "<html lang=\"fr\">\n",
    "\n",
    "<head>\n",
    "    <meta charset=\"utf-8\">\n",
    "    <title>Bibliothèque</title>\n",
    "    <link rel=\"stylesheet\" href=\"{{url_for('static', filename='style.css')}}\">\n",
    "</head>\n",
    "\n",
    "<body>\n",
    "    <h1>Menu</h1>\n",
    "    <p> <a href=\"{{ url_for('ajout') }}\">Enregistrer un livre</a></p>\n",
    "    <p> <a href=\"{{ url_for('lecture') }}\">Trouver un livre</a></p>\n",
    "</body>\n",
    "\n",
    "</html>"
   ]
  },
  {
   "cell_type": "markdown",
   "id": "c2f13e59",
   "metadata": {},
   "source": [
    "Dans ce même répertoire **templates**, créez les fichiers **ajout.html**, **resultatAjout.html** et **lecture.html**. "
   ]
  },
  {
   "cell_type": "markdown",
   "id": "91ecd9c2",
   "metadata": {},
   "source": [
    "### ajout.html"
   ]
  },
  {
   "cell_type": "raw",
   "id": "8b67fd1a",
   "metadata": {},
   "source": [
    "<!doctype html>\n",
    "<html lang=\"fr\">\n",
    "\n",
    "<head>\n",
    "    <meta charset=\"utf-8\">\n",
    "    <title>Le formulaire ajout</title>\n",
    "</head>\n",
    "\n",
    "<body>\n",
    "    <form action=\"http://localhost:5000/resultatAjout\" method=\"post\">\n",
    "        <ul>\n",
    "        <li><label>Titre</label> : <input type=\"text\" name=\"titre\" /></li>\n",
    "        <li> <label>Auteur</label> : <input type=\"text\" name=\"auteur\" /></li>\n",
    "        <li> <label>Année de publication</label> : <input type=\"text\" name=\"ann_publi\" /></li>\n",
    "        <li> <label>Note</label> : <input type=\"text\" name=\"note\" /></li>\n",
    "    </ul>\n",
    "        <input type=\"submit\" value=\"Envoyer\" />\n",
    "    </form>\n",
    "</body>\n",
    "\n",
    "</html>"
   ]
  },
  {
   "cell_type": "markdown",
   "id": "9a0b7459",
   "metadata": {},
   "source": [
    "### resultatAjout.html"
   ]
  },
  {
   "cell_type": "raw",
   "id": "d80e8ee1",
   "metadata": {},
   "source": [
    "<!doctype html>\n",
    "<html lang=\"fr\">\n",
    "\n",
    "<head>\n",
    "    <meta charset=\"utf-8\">\n",
    "    <title>Résultat ajout</title>\n",
    "</head>\n",
    "\n",
    "<body>\n",
    "    <p>Le livre {{titre}} de  {{auteur}} publié l'année {{ann_publi}} avec la note {{note}} a bien été enregistré.</p>\n",
    "    <p><a href=\"{{url_for('index')}}\" >Retour au menu</a></p>\n",
    "</body>\n",
    "\n",
    "</html>"
   ]
  },
  {
   "cell_type": "markdown",
   "id": "915db538",
   "metadata": {},
   "source": [
    "### lecture.html"
   ]
  },
  {
   "cell_type": "raw",
   "id": "d371c5e6",
   "metadata": {},
   "source": [
    "<!doctype html>\n",
    "<html lang=\"fr\">\n",
    "<head>\n",
    "<meta charset=\"utf-8\">\n",
    "<title>Lecture</title>\n",
    "<link rel=\"stylesheet\" href=\"{{url_for('static', filename='style.css')}}\">\n",
    "</head>\n",
    "<body>\n",
    "<h1>Menu lecture</h1>\n",
    "<p> <a href=\"{{ url_for('recherchceTitre') }}\">Recherche par titre</a></p>\n",
    "<p> <a href=\"{{ url_for('rechercheAuteur') }}\">Recherche par auteur</a></p>\n",
    "<p> <a href=\"{{ url_for('rechercheAnnPubli') }}\">Recherche par année de publication</a></p>\n",
    "<p> <a href=\"{{ url_for('rechercheNote') }}\">Recherche par note</a></p>\n",
    "</body>\n",
    "</html>"
   ]
  },
  {
   "cell_type": "markdown",
   "id": "3d13585e",
   "metadata": {},
   "source": [
    "Pour créer une feuille de style, vous  créez un répertoire **static** (au même niveau de l'arborescence que le répertoire **templates**) et placer votre fichier **style.css** dans ce répertoire **static**."
   ]
  },
  {
   "cell_type": "raw",
   "id": "99b30c71",
   "metadata": {},
   "source": [
    "h1{\n",
    "    text-align: center;\n",
    "}"
   ]
  },
  {
   "cell_type": "markdown",
   "id": "880a578b",
   "metadata": {},
   "source": [
    "Après avoir exécuté le programme **views.py**, ouvrez votre navigateur web \n",
    "\n",
    "et tapez dans la barre d'adresse **localhost:5000**."
   ]
  },
  {
   "cell_type": "markdown",
   "id": "feceb2f1",
   "metadata": {},
   "source": [
    "<!doctype html>\n",
    "<html lang=\"fr\">\n",
    "\n",
    "<head>\n",
    "    <meta charset=\"utf-8\">\n",
    "    <title>Bibliothèque</title>\n",
    "    <link rel=\"stylesheet\" href=\"{{url_for('static', filename='style.css')}}\">\n",
    "</head>\n",
    "\n",
    "<body>\n",
    "    <h1>Menu</h1>\n",
    "    <p> <a href=\"{{ url_for('ajout') }}\">Enregistrer un livre</a></p>\n",
    "    <p> <a href=\"{{ url_for('lecture') }}\">Trouver un livre</a></p>\n",
    "</body>\n",
    "\n",
    "</html>"
   ]
  },
  {
   "cell_type": "markdown",
   "id": "4e2e5c61",
   "metadata": {},
   "source": [
    "<!doctype html>\n",
    "<html lang=\"fr\">\n",
    "\n",
    "<head>\n",
    "    <meta charset=\"utf-8\">\n",
    "    <title>Le formulaire ajout</title>\n",
    "</head>\n",
    "\n",
    "<body>\n",
    "    <form action=\"http://localhost:5000/resultatAjout\" method=\"post\">\n",
    "        <ul>\n",
    "        <li><label>Titre</label> : <input type=\"text\" name=\"titre\" /></li>\n",
    "        <li> <label>Auteur</label> : <input type=\"text\" name=\"auteur\" /></li>\n",
    "        <li> <label>Année de publication</label> : <input type=\"text\" name=\"ann_publi\" /></li>\n",
    "        <li> <label>Note</label> : <input type=\"text\" name=\"note\" /></li>\n",
    "    </ul>\n",
    "        <input type=\"submit\" value=\"Envoyer\" />\n",
    "    </form>\n",
    "</body>\n",
    "\n",
    "</html>"
   ]
  },
  {
   "cell_type": "markdown",
   "id": "f43fcac3",
   "metadata": {},
   "source": [
    "<!doctype html>\n",
    "<html lang=\"fr\">\n",
    "<head>\n",
    "<meta charset=\"utf-8\">\n",
    "<title>Lecture</title>\n",
    "<link rel=\"stylesheet\" href=\"{{url_for('static', filename='style.css')}}\">\n",
    "</head>\n",
    "<body>\n",
    "<h1>Menu lecture</h1>\n",
    "<p> <a href=\"{{ url_for('recherchceTitre') }}\">Recherche par titre</a></p>\n",
    "<p> <a href=\"{{ url_for('rechercheAuteur') }}\">Recherche par auteur</a></p>\n",
    "<p> <a href=\"{{ url_for('rechercheAnnPubli') }}\">Recherche par année de publication</a></p>\n",
    "<p> <a href=\"{{ url_for('rechercheNote') }}\">Recherche par note</a></p>\n",
    "</body>\n",
    "</html>"
   ]
  },
  {
   "cell_type": "markdown",
   "id": "32bd2e9e",
   "metadata": {},
   "source": [
    "## Terminer le projet"
   ]
  },
  {
   "cell_type": "code",
   "execution_count": null,
   "id": "77dbf39c",
   "metadata": {},
   "outputs": [],
   "source": []
  }
 ],
 "metadata": {
  "kernelspec": {
   "display_name": "Python 3 (ipykernel)",
   "language": "python",
   "name": "python3"
  },
  "language_info": {
   "codemirror_mode": {
    "name": "ipython",
    "version": 3
   },
   "file_extension": ".py",
   "mimetype": "text/x-python",
   "name": "python",
   "nbconvert_exporter": "python",
   "pygments_lexer": "ipython3",
   "version": "3.8.10"
  }
 },
 "nbformat": 4,
 "nbformat_minor": 5
}
